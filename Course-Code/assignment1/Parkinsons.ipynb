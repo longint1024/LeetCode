{
 "cells": [
  {
   "cell_type": "code",
   "execution_count": 7,
   "metadata": {},
   "outputs": [
    {
     "name": "stdout",
     "output_type": "stream",
     "text": [
      "method_Logistic:match: 33/39\n",
      "method_SVM:match: 32/39\n",
      "the most important feature:D2\n",
      "method_SVC:match: 28/39\n",
      "method_SVC_optimization:match: 34/39\n"
     ]
    },
    {
     "data": {
      "text/plain": [
       "Text(0,0.5,'gamma')"
      ]
     },
     "execution_count": 7,
     "metadata": {},
     "output_type": "execute_result"
    },
    {
     "data": {
      "image/png": "[encoded data removed]",
      "text/plain": [
       "<Figure size 576x432 with 1 Axes>"
      ]
     },
     "metadata": {
      "needs_background": "light"
     },
     "output_type": "display_data"
    }
   ],
   "source": [
    "import pandas as pd\n",
    "from sklearn import svm\n",
    "import matplotlib.pyplot as plt\n",
    "import numpy as np\n",
    "from sklearn.model_selection import train_test_split\n",
    "from sklearn.linear_model import LogisticRegression\n",
    "from sklearn.model_selection import GridSearchCV  # high level的参数搜索加交叉验证模块\n",
    "from sklearn.svm import SVC\n",
    "\n",
    "#读取数据划分训练集测试集\n",
    "data = pd.read_csv('parkinsons.data')\n",
    "y=data['status'].values\n",
    "data=data.drop(labels='status',axis=1)\n",
    "data=data.drop(labels='name',axis=1)\n",
    "x=data.values\n",
    "x_train, x_test, y_train, y_test = train_test_split(x, y, test_size=0.2)\n",
    "\n",
    "#使用Logistics分类器\n",
    "model = LogisticRegression(penalty='l1')\n",
    "model.fit(x_train,y_train)\n",
    "y_pred = model.predict(x_test)\n",
    "print('method_Logistic:match: {0}/{1}'.format(np.sum(np.equal(y_pred,y_test)),y_test.shape[0]))\n",
    "\n",
    "#使用SVM训练分类器\n",
    "clf = svm.SVC(C=1.0, kernel='linear')\n",
    "clf.fit(x_train, y_train)\n",
    "y_pred = clf.predict(x_test)\n",
    "beta = model.coef_[0,:]\n",
    "beta=beta.tolist()\n",
    "num=max(beta)\n",
    "index=beta.index(num)\n",
    "feature=data.columns.values.tolist()\n",
    "print('method_SVM:match: {0}/{1}'.format(np.sum(np.equal(y_pred,y_test)),y_test.shape[0]))\n",
    "print('the most important feature:{}'.format(feature[index]))\n",
    "\n",
    "clf = SVC(C=1.0, kernel='rbf', gamma=0.1)\n",
    "clf.fit(x_train, y_train)\n",
    "y_pred = clf.predict(x_test)\n",
    "print('method_SVC:match: {0}/{1}'.format(np.sum(np.equal(y_pred,y_test)),y_test.shape[0]))\n",
    "\n",
    "#搜索最佳的参数\n",
    "gammas = np.logspace(-5, 1, 30)\n",
    "param_grid = {'gamma': gammas,'C': np.arange(2, 30)}\n",
    "clf = GridSearchCV(SVC(), param_grid, cv=4, return_train_score=True)\n",
    "clf.fit(x_train, y_train)\n",
    "y_pred = clf.predict(x_test)\n",
    "print('method_SVC_optimization:match: {0}/{1}'.format(np.sum(np.equal(y_pred,y_test)),y_test.shape[0]))\n",
    "param=clf.best_params_\n",
    "fig = plt.figure(1, figsize=(8, 6))\n",
    "plt.title('The best parameters')\n",
    "plt.xlim(1, 30)\n",
    "plt.ylim(0.0001, 0.1)\n",
    "plt.scatter(param['C'],param['gamma'])\n",
    "plt.xlabel('C')\n",
    "plt.ylabel('gamma')"
   ]
  },
  {
   "cell_type": "markdown",
   "metadata": {},
   "source": [
    "# T2-1\n",
    "\n",
    "### 结果\n",
    "\n",
    "程序中print了二分类匹配的正确率，对这个问题，正确率已经可以很好地评价分类器模型的性能。可以看出，在相同训练集测试集划分的情况下，两种方法的正确率非常接近，说明在这个问题上，LR分类和线性SVM分类的表现是接近的。\n",
    "\n",
    "### 分析\n",
    "\n",
    "我觉得，使用线性核函数的SVM分类器和LR分类没有本质区别，训练结果都可以说是决策树。这个问题具有良好的线性可分性，所以使用线性核函数已经可以得到比较良好的结果。\n",
    "\n"
   ]
  },
  {
   "cell_type": "markdown",
   "metadata": {},
   "source": [
    "# T2-2\n",
    "\n",
    "### 结果\n",
    "\n",
    "直接输出SVM训练模型中各项的权重，比较重要的几项有第20、9、15项，分别对应D2、MDVP：shimmer(dB)、HNR，最重要的影响项是D2\n",
    "\n",
    "### 分析\n",
    "\n",
    "注意到第8、9项其实是一个参量（MDVP:shimmer）,只不过一个用的是原值另一个用的是dB数，起初我觉得8、9项只有一个有权重是非常奇怪的，不过后来想明白了：用线性核函数衡量的是线性相关程度，显然最终分类结果与MDVP：shimmer有关，但是只和其dB数线性相关，而这个参量本身的指数相关性在线性模型下无法体现，故而权重为零。"
   ]
  },
  {
   "cell_type": "markdown",
   "metadata": {},
   "source": [
    "# T2-3\n",
    "\n",
    "### 分析\n",
    "\n",
    "我首先考虑如何确定惩罚系数C和核函数参数gamma的范围，因为gamma太小或者C太大都容易导致过拟合，使得最终在测试集上的表现反而不好。故而我使用了助教在例程中给出的gamma初始参数的分布，并将C定义在1到30之间寻找一个整数值。、\n",
    "\n",
    "由于划分训练集的时候，我取了总数据集的五分之一做测试集，相应第，训练参数的时候使用4折交叉验证，取cv=4。\n",
    "\n",
    "### 尝试\n",
    "\n",
    "尝试修正gamma的初始尝试值，修正参数为（--10,1,30），发现结果无明显变化，将生成项数增加到100项也无明显意义。分析可能是因为太小的gamma容易导致过拟合，而30项已经足够了，过于精细的参数确定对于模型最终在测试集上的表现没有明显的帮助。\n",
    "\n",
    "### 结果\n",
    "\n",
    "如图-The best parameter所示，最终C大概在15左右（有时会是2~4，与训练集的划分有关），gamma约在10^-3左右。相比于直接使用SVC，其结果要好上不少。\n",
    "\n",
    "|     method      | match |\n",
    "| :-------------: | :---: |\n",
    "|       LR        | 33/39 |\n",
    "|   SVM(linear)   | 32/39 |\n",
    "|       SVC       | 28/39 |\n",
    "| SVC(param_opti) | 34/39 |\n",
    "\n"
   ]
  }
 ],
 "metadata": {
  "kernelspec": {
   "display_name": "Python 3",
   "language": "python",
   "name": "python3"
  },
  "language_info": {
   "codemirror_mode": {
    "name": "ipython",
    "version": 3
   },
   "file_extension": ".py",
   "mimetype": "text/x-python",
   "name": "python",
   "nbconvert_exporter": "python",
   "pygments_lexer": "ipython3",
   "version": "3.7.0"
  }
 },
 "nbformat": 4,
 "nbformat_minor": 2
}
